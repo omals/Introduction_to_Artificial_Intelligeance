{
  "nbformat": 4,
  "nbformat_minor": 0,
  "metadata": {
    "colab": {
      "provenance": [],
      "collapsed_sections": []
    },
    "kernelspec": {
      "name": "python3",
      "display_name": "Python 3"
    },
    "language_info": {
      "name": "python"
    }
  },
  "cells": [
    {
      "cell_type": "markdown",
      "source": [
        "# **Search Algorithm working**\n"
      ],
      "metadata": {
        "id": "j3NL-K2sMVU0"
      }
    },
    {
      "cell_type": "code",
      "execution_count": 40,
      "metadata": {
        "id": "2pLnytGdeMGW"
      },
      "outputs": [],
      "source": [
        "\n",
        "WHITE = 0\n",
        "GRAY = 1\n",
        "BLACK = 2\n",
        "\n",
        "class Graph:\n",
        "    \n",
        "    def __init__(self,M):\n",
        "        self.Mat = M\n",
        "        self.N = M.shape[0]\n",
        "        self.parent = [None for _ in range(self.N)]\n",
        "        self.color = [None for _ in range(self.N)]\n",
        "        \n",
        "        \n",
        "    def getParent(self,index):\n",
        "        return self.parent[index]\n",
        "        \n",
        "    def getColor(self,index):\n",
        "        return self.color[index]\n",
        "    \n",
        "    def setParent(self,index,P):\n",
        "        self.parent[index] = P\n",
        "        \n",
        "    def setColor(self,index,color):\n",
        "        self.color[index] = color\n",
        "        \n",
        "    def getAdj(self, index):\n",
        "        adj=[]\n",
        "        for i,v in enumerate(self.Mat[index,:]):\n",
        "            if v!=0:\n",
        "                adj.append(i)\n",
        "        return adj\n"
      ]
    },
    {
      "cell_type": "markdown",
      "source": [
        "# **Breadth First Search**"
      ],
      "metadata": {
        "id": "CQgCh7TlNsoB"
      }
    },
    {
      "cell_type": "code",
      "source": [
        "class BFS:\n",
        "    \n",
        "    def __init__(self,G,source):\n",
        "        \n",
        "        self.G = G\n",
        "        self.source = source\n",
        "        self.Q = []\n",
        "        self.result = []\n",
        "        \n",
        "    def traverse(self):\n",
        "    \n",
        "        for i in range(self.G.N):\n",
        "            self.G.setColor(i,WHITE)\n",
        "            self.G.setParent(i,None)\n",
        "            \n",
        "        self.G.setColor(self.source,GRAY)\n",
        "        self.Q.append(self.source)\n",
        "        while self.Q :\n",
        "            u = self.Q.pop(0)\n",
        "            for v in self.G.getAdj(u):\n",
        "                if self.G.getColor(v) == WHITE:\n",
        "                    self.G.setColor(v,GRAY)\n",
        "                    self.G.setParent(v,u)\n",
        "                    self.Q.append(v)\n",
        "            self.G.setColor(u,BLACK)\n",
        "            self.result.append(u)\n",
        "            \n",
        "    def printResult(self):\n",
        "        for u in self.result:\n",
        "            print(u,end=' ')\n",
        "        print('')\n",
        "            \n",
        "    def printLevel(self,curr,depth):\n",
        "        if curr == None:\n",
        "            return;\n",
        "        for i in range(1,depth):\n",
        "            print(\"│   \",end='')\n",
        "        if depth > 0:\n",
        "            print(\"|___\",end='')\n",
        "        print(curr);\n",
        "\n",
        "        for child in [i for i,x in enumerate(self.G.parent) if x== curr]:\n",
        "            self.printLevel(child, depth + 1);\n",
        "        "
      ],
      "metadata": {
        "id": "LrbBQyN-Nqig"
      },
      "execution_count": 41,
      "outputs": []
    },
    {
      "cell_type": "markdown",
      "source": [
        "# **Depth First Search**"
      ],
      "metadata": {
        "id": "SvN4n9PON1mM"
      }
    },
    {
      "cell_type": "code",
      "source": [
        "class DFS:\n",
        "\n",
        "  def __init__(self,G,source):\n",
        "        \n",
        "        self.G = G\n",
        "        self.source = source\n",
        "        self.Q = []\n",
        "        self.result = []\n",
        "\n",
        "  def DFS_visit( self ,  G , u ):\n",
        "    for v in self.G.getAdj(u):\n",
        "      if self.G.getColor(v) == WHITE:\n",
        "         self.G.setColor(v,GRAY)\n",
        "         self.G.setParent(v,u)\n",
        "         self.DFS_visit(G,v)\n",
        "    self.G.setColor(u,BLACK)\n",
        "\n",
        "  def  traverse(self):\n",
        "\n",
        "    for i in range(self.G.N):\n",
        "       self.G.setColor(i,WHITE)\n",
        "       self.G.setParent(i,None)\n",
        "\n",
        "    for i in range(self.G.N):\n",
        "     if self.G.getColor(i) == WHITE:\n",
        "       self.G.setColor(i,GRAY)\n",
        "       self.DFS_visit(G,i)\n",
        "\n",
        "  def printResult(self):        \n",
        "        for u in self.result:\n",
        "            print(\"a\")\n",
        "            print(u,end=' ')\n",
        "        print('')\n",
        "\n",
        "  def printLevel(self,curr,depth):\n",
        "        if curr == None:\n",
        "            return;\n",
        "        for i in range(1,depth):\n",
        "            print(\"│   \",end='')\n",
        "        if depth > 0:\n",
        "            print(\"|___\",end='')\n",
        "        print(curr);\n",
        " \n",
        "        for child in [i for i,x in enumerate(self.G.parent) if x== curr]:\n",
        "            self.printLevel(child, depth + 1);\n",
        "    "
      ],
      "metadata": {
        "id": "0v7WBSDnNzZn"
      },
      "execution_count": 42,
      "outputs": []
    },
    {
      "cell_type": "markdown",
      "source": [
        "# **Output**"
      ],
      "metadata": {
        "id": "kOrM7ld6OHt1"
      }
    },
    {
      "cell_type": "code",
      "source": [
        "\n",
        "\n",
        "import numpy as np\n",
        "\n",
        "M = np.array([[0,1,0,0,1,0,1,0,0],\n",
        "              [1,0,1,0,0,0,0,0,0],\n",
        "              [0,1,0,1,1,0,0,0,0],\n",
        "              [0,0,1,0,0,1,0,0,0],\n",
        "              [1,0,1,0,0,1,0,0,0],\n",
        "              [0,0,0,1,1,0,0,0,0],\n",
        "              [1,0,0,0,0,0,0,1,1],\n",
        "              [0,0,0,0,0,0,1,0,1],\n",
        "              [0,0,0,0,0,0,1,1,0]])\n",
        "\n",
        "G = Graph(M)\n",
        "\n",
        "\n",
        "bfs = BFS(G,1)\n",
        "bfs.traverse()\n",
        "bfs.printResult()\n",
        "\n",
        "print(\"Breadth First Search : \")\n",
        "bfs.printLevel(1,0)\n",
        "\n",
        "print(\"Depth First Search : \")\n",
        "dfs = DFS(G,1)\n",
        "\n",
        "dfs.traverse()\n",
        "dfs.printLevel(0, 1)\n",
        "\n",
        "\n"
      ],
      "metadata": {
        "colab": {
          "base_uri": "https://localhost:8080/"
        },
        "id": "G7iDjW_kenvR",
        "outputId": "cd846952-34a9-4916-ba6f-e40eea96c048"
      },
      "execution_count": 36,
      "outputs": [
        {
          "output_type": "stream",
          "name": "stdout",
          "text": [
            "1 0 2 4 6 3 5 7 8 \n",
            "Breadth First Search : \n",
            "1\n",
            "|___0\n",
            "│   |___4\n",
            "│   │   |___5\n",
            "│   |___6\n",
            "│   │   |___7\n",
            "│   │   |___8\n",
            "|___2\n",
            "│   |___3\n",
            "Depth First Search : \n",
            "|___0\n",
            "│   |___1\n",
            "│   │   |___2\n",
            "│   │   │   |___3\n",
            "│   │   │   │   |___5\n",
            "│   │   │   │   │   |___4\n",
            "│   |___6\n",
            "│   │   |___7\n",
            "│   │   │   |___8\n"
          ]
        }
      ]
    },
    {
      "cell_type": "markdown",
      "source": [
        "#**A* Search**"
      ],
      "metadata": {
        "id": "doSCHV3iMg-F"
      }
    },
    {
      "cell_type": "code",
      "source": [
        "def aStar(start_node, stop_node):\n",
        "    open_set = set(start_node)\n",
        "    closed_set = set()\n",
        "    g = {}              \n",
        "    parents = {}        \n",
        "    g[start_node] = 0\n",
        "    parents[start_node] = start_node\n",
        "    while len(open_set) > 0:\n",
        "        n = None\n",
        "        for v in open_set:\n",
        "            if n == None or g[v] + heuristic(v) < g[n] + heuristic(n):\n",
        "                n = v\n",
        "        if n == stop_node or Graph_nodes[n] == None:\n",
        "            pass\n",
        "        else:\n",
        "            for (m, weight) in get_neighbors(n):\n",
        "                if m not in open_set and m not in closed_set:\n",
        "                    open_set.add(m)\n",
        "                    parents[m] = n\n",
        "                    g[m] = g[n] + weight\n",
        "                else:\n",
        "                    if g[m] > g[n] + weight:\n",
        "                        g[m] = g[n] + weight\n",
        "                        parents[m] = n\n",
        "                        if m in closed_set:\n",
        "                            closed_set.remove(m)\n",
        "                            open_set.add(m)\n",
        "        if n == None:\n",
        "            print('Path does not exist!')\n",
        "            return None\n",
        "        if n == stop_node:\n",
        "            path = []\n",
        "            while parents[n] != n:\n",
        "                path.append(n)\n",
        "                n = parents[n]\n",
        "            path.append(start_node)\n",
        "            path.reverse()\n",
        "            print('Path found: {}'.format(path))\n",
        "            return path\n",
        "        open_set.remove(n)\n",
        "        closed_set.add(n)\n",
        "    print('Path does not exist!')\n",
        "    return None\n",
        "\n",
        "def get_neighbors(v):\n",
        "    if v in Graph_nodes:\n",
        "        return Graph_nodes[v]\n",
        "    else:\n",
        "        return None\n",
        "def heuristic(n):\n",
        "    H_dist = {\n",
        "        'A': 11,\n",
        "        'B': 6,\n",
        "        'C': 5,\n",
        "        'D': 7,\n",
        "        'E': 3,\n",
        "        'F': 6,\n",
        "        'G': 5,\n",
        "        'H': 3,\n",
        "        'I': 1,\n",
        "        'J': 0\n",
        "    }\n",
        "    return H_dist[n]\n",
        "\n",
        "Graph_nodes = {\n",
        "    'A': [('B', 6), ('F', 3)],\n",
        "    'B': [('A', 6), ('C', 3), ('D', 2)],\n",
        "    'C': [('B', 3), ('D', 1), ('E', 5)],\n",
        "    'D': [('B', 2), ('C', 1), ('E', 8)],\n",
        "    'E': [('C', 5), ('D', 8), ('I', 5), ('J', 5)],\n",
        "    'F': [('A', 3), ('G', 1), ('H', 7)],\n",
        "    'G': [('F', 1), ('I', 3)],\n",
        "    'H': [('F', 7), ('I', 2)],\n",
        "    'I': [('E', 5), ('G', 3), ('H', 2), ('J', 3)],\n",
        "}\n",
        "\n",
        "aStar('A', 'G')\n"
      ],
      "metadata": {
        "colab": {
          "base_uri": "https://localhost:8080/"
        },
        "id": "IFCPxaYgMqkj",
        "outputId": "c8cf577c-0e1c-4d11-f7d2-c6014254a691"
      },
      "execution_count": 38,
      "outputs": [
        {
          "output_type": "stream",
          "name": "stdout",
          "text": [
            "Path found: ['A', 'F', 'G']\n"
          ]
        },
        {
          "output_type": "execute_result",
          "data": {
            "text/plain": [
              "['A', 'F', 'G']"
            ]
          },
          "metadata": {},
          "execution_count": 38
        }
      ]
    }
  ]
}